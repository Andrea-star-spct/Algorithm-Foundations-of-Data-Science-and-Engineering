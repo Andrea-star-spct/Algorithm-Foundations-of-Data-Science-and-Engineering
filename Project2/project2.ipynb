{
 "cells": [
  {
   "cell_type": "markdown",
   "metadata": {},
   "source": [
    "### 导入需要的库"
   ]
  },
  {
   "cell_type": "code",
   "execution_count": 32,
   "metadata": {},
   "outputs": [],
   "source": [
    "import pandas as pd\n",
    "import numpy as np\n",
    "import requests\n",
    "from lxml import etree\n",
    "from sklearn.metrics.pairwise import cosine_similarity\n",
    "from sklearn.feature_extraction.text import TfidfTransformer\n",
    "from sklearn.feature_extraction.text import TfidfVectorizer\n",
    "from sklearn.feature_extraction.text import CountVectorizer\n",
    "from sklearn.cluster import KMeans\n",
    "import time\n",
    "import os\n",
    "import warnings\n",
    "warnings.filterwarnings('ignore')"
   ]
  },
  {
   "cell_type": "markdown",
   "metadata": {},
   "source": [
    "### 爬取正点财经的研究报告界面"
   ]
  },
  {
   "cell_type": "code",
   "execution_count": 34,
   "metadata": {},
   "outputs": [],
   "source": [
    "data = []\n",
    "#爬取10个页面\n",
    "for i in range(1, 11):\n",
    "    url = 'http://www.zdcj.net/reportlist/newreport_{}.html'.format(i)\n",
    "    headers = {\"User-Agent\": \"Mozilla/5.0 (Windows NT 10.0; WOW64)\"}\n",
    "    MyPage = requests.get(url, headers=headers)\n",
    "    MyPage.encoding=\"utf-8\"\n",
    "    dom = etree.HTML(MyPage.text)\n",
    "    listnews = dom.xpath('//a[@title][@target=\"_blank\"]/@href')\n",
    "    count=0\n",
    "    i=0\n",
    "    while i<len(listnews):\n",
    "        count=count+1\n",
    "        news=listnews[i]\n",
    "        news1=listnews[i+1]\n",
    "        news2=listnews[i+2]\n",
    "        news3=listnews[i+3]\n",
    "        #第一个\n",
    "        headers = {\"User-Agent\": \"Mozilla/5.0 (Windows NT 10.0; WOW64)\"}\n",
    "        MyPage = requests.get(news, headers=headers)\n",
    "        dom = etree.HTML(MyPage.text.encode(\"latin1\").decode(\"GBK\"))\n",
    "        items = dom.xpath('//div[@class=\"v_c_box\"]/p/text()')\n",
    "        items = \"\".join(items)\n",
    "        headers1 = {\"User-Agent\": \"Mozilla/5.0 (Windows NT 10.0; WOW64)\"}\n",
    "        #第二个\n",
    "        MyPage1 = requests.get(news1, headers=headers1)\n",
    "        dom1 = etree.HTML(MyPage1.text.encode(\"latin1\").decode(\"GBK\"))\n",
    "        items1 = dom1.xpath('//div[@class=\"v_c_box\"]/p/text()')\n",
    "        items1 = \"\".join(items1)\n",
    "        #第三个\n",
    "        headers2 = {\"User-Agent\": \"Mozilla/5.0 (Windows NT 10.0; WOW64)\"}\n",
    "        MyPage2 = requests.get(news2, headers=headers2)\n",
    "        dom2 = etree.HTML(MyPage2.text.encode(\"latin1\").decode(\"GBK\"))\n",
    "        items2 = dom2.xpath('//div[@class=\"v_c_box\"]/p/text()')\n",
    "        items2 = \"\".join(items2)\n",
    "        #第四个\n",
    "        headers3 = {\"User-Agent\": \"Mozilla/5.0 (Windows NT 10.0; WOW64)\"}\n",
    "        MyPage3 = requests.get(news3, headers=headers3)\n",
    "        dom3 = etree.HTML(MyPage3.text.encode(\"latin1\").decode(\"GBK\"))\n",
    "        items3 = dom3.xpath('//div[@class=\"v_c_box\"]/p/text()')\n",
    "        items3 = \"\".join(items3)\n",
    "        items=items+items1\n",
    "        if items:\n",
    "            data.append(items)\n",
    "        i=i+4\n",
    "#爬取的内容放到data.csv\n",
    "df = pd.DataFrame({'content': data}, columns=['content'])\n",
    "df.to_csv('./data.csv')"
   ]
  },
  {
   "cell_type": "markdown",
   "metadata": {},
   "source": [
    "### 读取数据"
   ]
  },
  {
   "cell_type": "code",
   "execution_count": 7,
   "metadata": {},
   "outputs": [],
   "source": [
    "txt=pd.read_csv('data.csv')"
   ]
  },
  {
   "cell_type": "markdown",
   "metadata": {},
   "source": [
    "### 进行数据预处理"
   ]
  },
  {
   "cell_type": "code",
   "execution_count": 8,
   "metadata": {},
   "outputs": [],
   "source": [
    "txt['content'] = txt['content'].str.replace('\\r','')\n",
    "txt['content'] = txt['content'].str.replace('\\n','')\n",
    "txt['content'] = txt['content'].str.replace('\\t','')\n",
    "txt['content']=txt['content'].str.replace('  ','')\n",
    "txt['content']=txt['content'].str.strip()\n",
    "txt = txt['content'].str.replace(' ','')"
   ]
  },
  {
   "cell_type": "code",
   "execution_count": 9,
   "metadata": {},
   "outputs": [],
   "source": [
    "#得到句子\n",
    "sent=txt.str.split('。|\\s')\n",
    "sent[0]=list(set(sent[0]))"
   ]
  },
  {
   "cell_type": "markdown",
   "metadata": {},
   "source": [
    "### 查看前四篇文章的所有句子，接下来就要从这四篇文章采用6种不同的方法生成一篇摘要"
   ]
  },
  {
   "cell_type": "code",
   "execution_count": 10,
   "metadata": {},
   "outputs": [
    {
     "data": {
      "text/plain": [
       "['',\n",
       " '直升机需求不断扩大，军民融合市场空间广阔军改后陆军航空兵扩编和海军陆战队建设，我国军用直升机需求不断扩大',\n",
       " '根据绝对/相对估值法，给予公司12.60~14.50元的合理估值区间',\n",
       " '公司作为直升机行业龙头，将受益于整个行业的向好发展',\n",
       " '我国直升机制造业的主力军，自主研发助推新品交付与民品替代中直主营航空产品直升机，现有核心产品包括直8、直9、直11、AC311、AC312、AC313等型号直升机及零部件，近年来已逐步完成主要产品型号的更新换代',\n",
       " 'EQT股权转让完成，新战略股东有望带来新变化',\n",
       " '由于其投资产品已到退出期限，本次股权转让退出实属正常的退出安排',\n",
       " '股权转让落地解除减持预期对股价的压制',\n",
       " '首次覆盖太阳纸业并给予公司“买入”评级',\n",
       " '点评：',\n",
       " '市场担忧减持对公司股价造成较大波动，预计该担忧部分影响了公司的股价表现',\n",
       " '参考美国陆军直升机的编制情况，我们预测未来我国陆军直升机需求达到1500架,市场空间约为1800亿元；根据《通用航空“十三五”规划》，我们预测国内民用直升机到2020年约有600架的缺口，公司民机业务有望提升',\n",
       " '盈利预测及估值',\n",
       " '其中泽星投资持有公司24.78%的股权，买方则由春华资本和方源资本各持股50%',\n",
       " '公司业绩稳健成长，经营逐步改善，本次股权转让引入知名PE，有望为公司经营带来积极变化，维持“买入”评级',\n",
       " '本次公司公告了哈飞集团、中直有限的简化版财务报表，按照同一控制下企业合并的规则，2016-2018年股东中航科工的营收将分别增厚184.82/149.44/191.30亿元，净利润将分别增厚1.76/6.14/2.08亿元，归母净利润将分别增厚2.07/3.90/1.79亿元',\n",
       " '在民机科研方面，公司深入开展“一机首飞”、“一机论证”、“两机取证”',\n",
       " '据东方网10月1日消息，在我国国庆70周年阅兵表演中直20首次公开亮相',\n",
       " '公司有望凭借老挝和广西项目的区位优势和林浆纸一体化带来的成本优势，扩大在南方市场文化纸和包装纸的份额',\n",
       " 'EQT是公司上市前就参与投资的战略PE股东，投资期间利用其独特的“实业加速模型”帮公司持续扩张并改善治理结构，也为公司能成功做大上市做出的重要贡献',\n",
       " '事件：',\n",
       " '根据公司关于日常关联交易的公告，公司2019年度预计上限同比增长26%左右，我们预计公司2019-2021年实现营收162.48/206.71/264.68亿元，同比增长24.35%、27.23%、28.05%，实现归母净利润分别为6.51/8.61/11.46亿元，同比增长27.50%、32.31%、33.12%，对应EPS分别为1.10/1.46/1.94元/股，目前股价对应2019-2021年PE分别为38.81/29.33/22.04倍，给予“增持”评级',\n",
       " '自2017年政府加强外废进口管制以来，我国外废进口量大幅下降',\n",
       " '风险提示',\n",
       " '本次集团相关直升机资产收购完成后，上市公司营收与净利润将大幅增厚（1）中直有限（中航直升机）：主要从事直升机研制、营销、服务、运营，主营业务包括直升机制造业和通航运营业，可研制和批量生产多种型号直升机和转包生产多种航空零部件',\n",
       " '我们预计，公司特殊用户、民用直升机两方向将持续不断推进',\n",
       " '这一短期难以弥补的原材料缺口有望催化国废价格上涨，带动纸价上行，加速领先和落后企业分化，利好太阳纸业等原料端自给率高的龙头企业',\n",
       " '航空产品交付节奏慢于预期；资产整合进度低于预期',\n",
       " '公司发布公告，EQT（LeaderHoldingLimited，简称“卖方”）将转让其持有的泽星投资100%股权给SonataCompanyLimited（简称“买方”），总对价为5.57亿美元',\n",
       " '目前文化纸行业集中度已然较高，包装纸领域尚有较大整合空间',\n",
       " '买方为知名的投资机构春华资本和方源资本，其合伙人团队多为高盛或淡马锡等知名机构就职背景的华人知名投资人，也有如像阿里爸爸、咕咚、快手、蚂蚁金服等知名投资案例，兼具国际化视野和本土经验，预计有望为公司带来更多外部合作机会或医药新零售模式升级的机会',\n",
       " '预计到2020-2021年，废纸名义缺口量每年可能超过1000万吨',\n",
       " '自建速生林、采购外废制浆造纸提升原材料渠道自主可控程度，降低原材料价格波动对成本的冲击',\n",
       " '我们认为，此举彰显了中航工业集团对军民用直升机业务长期发展的信心，从中直股份业绩可以看出直升机业务正处于高景气周期，随着集团资产整合的加速推进，直升机研制及部分总装资产未来有望注入上市公司体内，增厚业绩同时完善直升机资产完整性，打造我国直升机龙头上市公司',\n",
       " '股东科工拟发股收购中直有限100%、哈飞10.21%、昌飞47.96%股权11月28日公司公告，股东科工拟发行15亿股内资股（向集团发行12.5亿股，向天保投资发行2.5亿股），每股价格4.19元港币（折合3.79元人民币）收购以下3项资产，收购对价为56.88亿元',\n",
       " '行业整合出清，龙头逆势扩张',\n",
       " '林浆纸一体化构建核心优势，盈利能力稳中有进',\n",
       " '提升盈利中枢和稳定性，形成并扩大市场竞争中的产品质量和价格优势，更好地分享供给侧改革带来的机遇',\n",
       " '废纸稀缺性渐显，或成业绩增长催化剂',\n",
       " '此前EQT通过泽星投资持股公司股份数高达24.78%，且公告过将全部减持',\n",
       " '风险提示：',\n",
       " '在民机销售方面，各型直升机销售稳中有进，各主打产品逐步站稳市场，努力推进“一带一路市场的开拓”',\n",
       " '盈利预测与评级：维持营收增速预测，19-21年公司营收为164.6/204.1/249.0亿元，毛利率为13.95%/14.12%/14.3%，净利润为6.19/7.65/9.30亿元，EPS为1.05/1.3/1.58元，按照10月24日收盘价44.07元，对应PE为41.96/33.98/27.92x',\n",
       " '老挝和广西项目是太阳打开南方市场的战略重镇',\n",
       " '投资要点',\n",
       " '11月28日公司公告，公司股东中航科工拟发行内资股收购中直有限100%股权、哈飞集团10.21%股权、昌飞集团47.96%股权',\n",
       " '并购整合不顺商誉减值风险；新建并购速度不达预期风险',\n",
       " '股权转让引入知名PE，有望带来积极变化，维持“买入”评级维持19~21年EPS预测为1.87/2.42/3.05元，现价对应19~21年PE为39/30/24倍',\n",
       " '经过多年建设和发展，公司在山东建立起较为完善的原料采购和纸品销售渠道',\n",
       " '风险提示：公司重大资产重组进度低于预期，军工订单低于预期',\n",
       " '本次股权转让落地有助于解除减持预期对公司股价上涨的压制，形成利好',\n",
       " '（3）昌飞集团：我国直升机科研生产基地，具备研制和批产多品种、多系列、多型号直升机和航空零部件生产的能力，主要产品有直8、直10、直11等军用直升机，AC310、AC311、AC313等民用直升机',\n",
       " '公司依托自身丰富的生产运营经验，以前瞻性眼光布局海外基地，十年深耕终有所成',\n",
       " '（1）航空工业集团、天保投资合计持有的中直有限100%股权（注：中直有限直接&间接持有中直股份16.03%股份）；',\n",
       " '在环保和市场力量共同作用下，大批“小规模、高污染、高能耗”纸企被淘汰出局',\n",
       " '直升机资产加速整合，公司中长期受益',\n",
       " '文化纸和包装纸价格出现大幅下滑；老挝和广西项目进展速度不及预期',\n",
       " '我国造纸工业自2011年起进入“增速下行、优化结构、提高质量”的新阶段',\n",
       " '交易完成后，中航科工合计持有中直股份50.80%股份',\n",
       " '本次交易属于上市公司主要股东之间的股权变动，符合国家军民融合发展和航空强国战略，中航工业集团整合旗下直升机业务，整体注入到中航科工港股上市平台',\n",
       " '（2）航空工业集团持有的哈飞集团10.21%股权；（3）航空工业集团持有的昌飞集团47.96%股权',\n",
       " '本次交易完成前，科工持股公司34.77%股份；收购完成后，科工合计持有中直股份50.80%股份，实现了50%以上的绝对控股',\n",
       " '等工作，2018全年累计试飞5280架次/8849小时',\n",
       " '（2）哈飞集团：主要从事多款直升机和系列飞机的研发、制造与销售，产品体系包括直9、直19军用直升机，AC312、AC352民用直升机和运12E、运12F固定翼飞机',\n",
       " '首次覆盖给予“买入”评级，合理估值区间12.60~14.50元预测公司2019-2021FY的营业收入分别为225.3、238.0、273.9亿元，同比增速分别为3.5%、5.6%和15.1%；净利润分别为19.7、22.1和25.3亿元，同比增速分别为-11.8%、12.2%和14.0%；BPS分别为5.54、6.30和7.18元/股；对应PB分别为1.65、1.45和1.27倍']"
      ]
     },
     "execution_count": 10,
     "metadata": {},
     "output_type": "execute_result"
    }
   ],
   "source": [
    "sent[0]"
   ]
  },
  {
   "cell_type": "markdown",
   "metadata": {},
   "source": [
    "### 方法一：课本原始爬山算法，子模函数为集合覆盖函数"
   ]
  },
  {
   "cell_type": "markdown",
   "metadata": {},
   "source": [
    "1. 提取关键词，得到关键词集合W"
   ]
  },
  {
   "cell_type": "code",
   "execution_count": 36,
   "metadata": {},
   "outputs": [],
   "source": [
    "txt['content'] = txt['content'].str.replace(r'[^\\u4e00-\\u9fa5]','')\n",
    "txt['content'] = txt['content'].str.replace(' ','')\n",
    "import jieba\n",
    "txt['content'] = txt['content'].apply(lambda x:' '.join(jieba.cut(x)))"
   ]
  },
  {
   "cell_type": "markdown",
   "metadata": {},
   "source": [
    "读入停用词"
   ]
  },
  {
   "cell_type": "code",
   "execution_count": 39,
   "metadata": {},
   "outputs": [],
   "source": [
    "file = open(\"stop.txt\",encoding='utf-8')\n",
    "stopword = file.readlines()\n",
    "stopwords = [word.strip() for word in stopword]\n",
    "tfidf1 = TfidfVectorizer(stop_words=stopwords, ngram_range=(1,1)).fit(txt['content'])\n",
    "tfidf2 = TfidfVectorizer(stop_words=stopwords, ngram_range=(1,1))"
   ]
  },
  {
   "cell_type": "code",
   "execution_count": 45,
   "metadata": {},
   "outputs": [
    {
     "name": "stdout",
     "output_type": "stream",
     "text": [
      "['游戏', '上周', '服务器', '车型', '新车', '车展', '奇缘', '冰雪', '万吨', '动画电影', '票房', '传媒', '上涨', '行业', '合资', '库存', '板块', '自主', '车企', '特斯拉', '多款', '衍生品', '广州', '期货价格', '提供商', '钢材', '下跌', '智能网', '市场', '环比', '百度', '三七', '互娱', '新车型', '元吨', '覆盖', '铁矿石', '新能源', '全新', '估值', '本周', '龙头', '主题', '特材钢', '千吨', '基础架构', '异构', '姊妹', '钢联', '全面铺开', '长安', '水基', '阳泉', '系列', '文化', '采购', '加速', '卖点', '超市', '内地', '明后', '久立', '百花齐放', '粉矿', '广汽', '交易量', '社会', '机会', '中信', '成交量', '国产', '产品', '报告', '研高纳', '冷轧', '近几年', '热轧', '搭载', '上映', '福特', '当代', '重磅', '呈现', '螺纹钢', '下降', '业绩', '主流', '钢铁', '明年', '线材', '换代', '完美', '数据中心', '中厚板', '交互', '万平方米', '诸多', '比特', '需求', '助力', '同比', '内容', '建议', '亮相', '出版', '两条', '产业化', '影视', '一个月', '公司', '高性能', '电影', '螺纹', '澳洲', '电动车', '明显改善', '特钢', '提振', '美元', '时代', '情绪', '涨跌幅', '厂商', '集团', '汽车', '钢厂', '涨幅', '数据', '投资', '创造', '东方', '国外', '增长', '配置', '亿美元', '焦炭', '开工', '股份', '二期', '把握', '利好', '跌幅', '头部', '热点', '同步', '世界', '销售额', '稳健', '效应', '能力']\n"
     ]
    }
   ],
   "source": [
    "x_res = tfidf2.fit_transform(txt['content'])\n",
    "feature = {v: k for k, v in tfidf1.vocabulary_.items()}  \n",
    "W_matrix = np.argsort(-x_res.todense())[:, :150]  \n",
    "df = pd.DataFrame(np.vectorize(feature.get)(W_matrix))  \n",
    "feature_array = np.array(tfidf1.get_feature_names())\n",
    "tfidf_sort = np.argsort(re.toarray()).flatten()[::-1]\n",
    "W_ = feature_array[tfidf_sort][:150]\n",
    "W=[]\n",
    "for i in W_:\n",
    "    W.append(i)\n",
    "print(W)"
   ]
  },
  {
   "cell_type": "markdown",
   "metadata": {},
   "source": [
    "2. 将文档里的所有包含关键词的句子汇总成集合S "
   ]
  },
  {
   "cell_type": "code",
   "execution_count": 46,
   "metadata": {},
   "outputs": [
    {
     "name": "stdout",
     "output_type": "stream",
     "text": [
      "64\n"
     ]
    }
   ],
   "source": [
    "S=[]\n",
    "# for i in range(100):\n",
    "for k in sent[0]:\n",
    "    if k!='':\n",
    "        S.append(k)\n",
    "print(len(S))"
   ]
  },
  {
   "cell_type": "code",
   "execution_count": 47,
   "metadata": {},
   "outputs": [],
   "source": [
    "cover_list=[]\n",
    "cover_list_number=[]\n",
    "for se in S:\n",
    "    word=jieba.cut(se)\n",
    "    words=[]\n",
    "    word_have=[]\n",
    "    for wordt in word:\n",
    "            words.append(wordt)\n",
    "    #words现在包含的是这个句子中分的词\n",
    "    for i in words:\n",
    "        if i in W:\n",
    "            word_have.append(i)\n",
    "    word_have=list(set(word_have))\n",
    "    if word_have!=[]:\n",
    "        for i in range(0,len(word_have)):\n",
    "            word_have[i]=W.index(word_have[i])\n",
    "            \n",
    "    cover_list.append(word_have)\n",
    "    cover_list_number.append(len(word_have))"
   ]
  },
  {
   "cell_type": "code",
   "execution_count": 48,
   "metadata": {},
   "outputs": [
    {
     "data": {
      "text/plain": [
       "[8]"
      ]
     },
     "execution_count": 48,
     "metadata": {},
     "output_type": "execute_result"
    }
   ],
   "source": [
    "cover_list[2]"
   ]
  },
  {
   "cell_type": "code",
   "execution_count": 49,
   "metadata": {},
   "outputs": [
    {
     "data": {
      "text/plain": [
       "1"
      ]
     },
     "execution_count": 49,
     "metadata": {},
     "output_type": "execute_result"
    }
   ],
   "source": [
    "cover_list_number[2]"
   ]
  },
  {
   "cell_type": "code",
   "execution_count": 50,
   "metadata": {},
   "outputs": [],
   "source": [
    "true_false_list1=[]\n",
    "true_false_list2=[]\n",
    "for i in range(0,len(W)):\n",
    "    true_false_list1.append(\"false\")\n",
    "    true_false_list2.append(\"false\")\n",
    "import copy\n",
    "cover_list_number1=copy.deepcopy(cover_list_number) \n",
    "cover_list_number2=copy.deepcopy(cover_list_number) "
   ]
  },
  {
   "cell_type": "markdown",
   "metadata": {},
   "source": [
    "3. 原始爬山算法"
   ]
  },
  {
   "cell_type": "code",
   "execution_count": 61,
   "metadata": {},
   "outputs": [],
   "source": [
    "#原始的爬山算法：\n",
    "import time\n",
    "k=10\n",
    "#计时\n",
    "start =time.perf_counter()\n",
    "#选择的句子\n",
    "list_selected1=[]\n",
    "origin_cover_list_number1=copy.deepcopy(cover_list_number1) \n",
    "current_selected=np.argmax(cover_list_number1)\n",
    "while len(list_selected1) <k:\n",
    "    for j in range(0, len(sentence)):\n",
    "        for i in range(0,origin_cover_list_number1[j]):\n",
    "            #每次遍历查找使得增加的关键词最多的句子\n",
    "            #如果在true_false_list中已经有了这个关键词，那么这个句子中包含的关键词个数就要-1，因为是要看新增的关键词个数，为此还要维护一个origin_cover_list_number\n",
    "            if true_false_list1[cover_list[j][i]]==True:\n",
    "                cover_list_number1[j]=cover_list_number1[j]-1\n",
    "        \n",
    "    current_selected=np.argmax(cover_list_number1)\n",
    "    #选出该句子后，将cover_list_number中的对应位置置为0，这样下一次current_selected就不会选择它了\n",
    "    cover_list_number1[current_selected]=0\n",
    "    list_selected1.append(current_selected)\n",
    "    for i in range(0,origin_cover_list_number1[current_selected]):\n",
    "        true_false_list1[cover_list[current_selected][i]]=True\n",
    "end = time.perf_counter()\n",
    "es1=end-start\n"
   ]
  },
  {
   "cell_type": "code",
   "execution_count": 64,
   "metadata": {},
   "outputs": [
    {
     "name": "stdout",
     "output_type": "stream",
     "text": [
      "运行时间\n"
     ]
    },
    {
     "data": {
      "text/plain": [
       "0.004040100000565872"
      ]
     },
     "execution_count": 64,
     "metadata": {},
     "output_type": "execute_result"
    }
   ],
   "source": [
    "print(\"运行时间\")\n",
    "es1"
   ]
  },
  {
   "cell_type": "code",
   "execution_count": 55,
   "metadata": {},
   "outputs": [
    {
     "name": "stdout",
     "output_type": "stream",
     "text": [
      "我们认为，此举彰显了中航工业集团对军民用直升机业务长期发展的信心，从中直股份业绩可以看出直升机业务正处于高景气周期，随着集团资产整合的加速推进，直升机研制及部分总装资产未来有望注入上市公司体内，增厚业绩同时完善直升机资产完整性，打造我国直升机龙头上市公司。首次覆盖给予“买入”评级，合理估值区间12.60~14.50元预测公司2019-2021FY的营业收入分别为225.3、238.0、273.9亿元，同比增速分别为3.5%、5.6%和15.1%；净利润分别为19.7、22.1和25.3亿元，同比增速分别为-11.8%、12.2%和14.0%；BPS分别为5.54、6.30和7.18元/股；对应PB分别为1.65、1.45和1.27倍。（3）昌飞集团：我国直升机科研生产基地，具备研制和批产多品种、多系列、多型号直升机和航空零部件生产的能力，主要产品有直8、直10、直11等军用直升机，AC310、AC311、AC313等民用直升机。目前文化纸行业集中度已然较高，包装纸领域尚有较大整合空间。自2017年政府加强外废进口管制以来，我国外废进口量大幅下降。直升机需求不断扩大，军民融合市场空间广阔军改后陆军航空兵扩编和海军陆战队建设，我国军用直升机需求不断扩大。自建速生林、采购外废制浆造纸提升原材料渠道自主可控程度，降低原材料价格波动对成本的冲击。预计到2020-2021年，废纸名义缺口量每年可能超过1000万吨。投资要点。据东方网10月1日消息，在我国国庆70周年阅兵表演中直20首次公开亮相。\n"
     ]
    }
   ],
   "source": [
    "summary=[]\n",
    "for i in list_selected1:\n",
    "    summary.append(sentence[i])\n",
    "summary=\"。\".join(summary)\n",
    "summary=summary+\"。\"\n",
    "print(summary)"
   ]
  },
  {
   "cell_type": "code",
   "execution_count": 71,
   "metadata": {},
   "outputs": [
    {
     "name": "stdout",
     "output_type": "stream",
     "text": [
      "覆盖率\n",
      "0.15333333333333332\n"
     ]
    }
   ],
   "source": [
    "print(\"覆盖率\")\n",
    "cnt=0\n",
    "for i in true_false_list1:\n",
    "    if i==True:\n",
    "        cnt=cnt+1\n",
    "print(cnt/len(W))"
   ]
  },
  {
   "cell_type": "markdown",
   "metadata": {},
   "source": [
    "### 方法二：通过lazy改进课本原始爬山算法，子模函数为集合覆盖函数"
   ]
  },
  {
   "cell_type": "code",
   "execution_count": 52,
   "metadata": {},
   "outputs": [],
   "source": [
    "import time\n",
    "\n",
    "k=10\n",
    "start =time.perf_counter()\n",
    "list_selected2=[]\n",
    "origin_cover_list_number2=copy.deepcopy(cover_list_number2)  \n",
    "current_selected=np.argmax(cover_list_number2)\n",
    "while len(list_selected2) <k:\n",
    "    while current_selected!=np.argmax(cover_list_number2):\n",
    "        #此时最大的是句子2，那就先把它的和true_false_list比较，看此时的关键词个数cover_list_number 有多少\n",
    "        current_selected=np.argmax(cover_list_number2)\n",
    "        #第一次做\n",
    "        if cover_list_number2[current_selected]==origin_cover_list_number2[current_selected]:\n",
    "            for i in range(0,origin_cover_list_number2[current_selected]):\n",
    "                if cover_list_number2[current_selected]==origin_cover_list_number2[current_selected]:\n",
    "                    if true_false_list2[cover_list[current_selected][i]]==True:\n",
    "                        cover_list_number2[current_selected]=cover_list_number2[current_selected]-1\n",
    "   \n",
    "    #得到句子2实际覆盖了20\tcover_list_number [current_selected]=20  3\n",
    "    cover_list_number2[current_selected]=-1\n",
    "    list_selected2.append(current_selected)\n",
    "    for i in range(0,origin_cover_list_number2[current_selected]):\n",
    "        true_false_list2[cover_list[current_selected][i]]=True\n",
    "end = time.perf_counter()\n",
    "es2=end-start"
   ]
  },
  {
   "cell_type": "code",
   "execution_count": 73,
   "metadata": {},
   "outputs": [
    {
     "name": "stdout",
     "output_type": "stream",
     "text": [
      "运行时间\n"
     ]
    },
    {
     "data": {
      "text/plain": [
       "0.0019093999999313382"
      ]
     },
     "execution_count": 73,
     "metadata": {},
     "output_type": "execute_result"
    }
   ],
   "source": [
    "print(\"运行时间\")\n",
    "es2"
   ]
  },
  {
   "cell_type": "code",
   "execution_count": 72,
   "metadata": {},
   "outputs": [
    {
     "name": "stdout",
     "output_type": "stream",
     "text": [
      "覆盖率\n",
      "0.15333333333333332\n"
     ]
    }
   ],
   "source": [
    "print(\"覆盖率\")\n",
    "cnt=0\n",
    "for i in true_false_list2:\n",
    "    if i==True:\n",
    "        cnt=cnt+1\n",
    "print(cnt/len(W))"
   ]
  },
  {
   "cell_type": "code",
   "execution_count": 58,
   "metadata": {},
   "outputs": [
    {
     "name": "stdout",
     "output_type": "stream",
     "text": [
      "我们认为，此举彰显了中航工业集团对军民用直升机业务长期发展的信心，从中直股份业绩可以看出直升机业务正处于高景气周期，随着集团资产整合的加速推进，直升机研制及部分总装资产未来有望注入上市公司体内，增厚业绩同时完善直升机资产完整性，打造我国直升机龙头上市公司。首次覆盖给予“买入”评级，合理估值区间12.60~14.50元预测公司2019-2021FY的营业收入分别为225.3、238.0、273.9亿元，同比增速分别为3.5%、5.6%和15.1%；净利润分别为19.7、22.1和25.3亿元，同比增速分别为-11.8%、12.2%和14.0%；BPS分别为5.54、6.30和7.18元/股；对应PB分别为1.65、1.45和1.27倍。（3）昌飞集团：我国直升机科研生产基地，具备研制和批产多品种、多系列、多型号直升机和航空零部件生产的能力，主要产品有直8、直10、直11等军用直升机，AC310、AC311、AC313等民用直升机。（2）哈飞集团：主要从事多款直升机和系列飞机的研发、制造与销售，产品体系包括直9、直19军用直升机，AC312、AC352民用直升机和运12E、运12F固定翼飞机。公司发布公告，EQT（LeaderHoldingLimited，简称“卖方”）将转让其持有的泽星投资100%股权给SonataCompanyLimited（简称“买方”），总对价为5.57亿美元。目前文化纸行业集中度已然较高，包装纸领域尚有较大整合空间。本次股权转让落地有助于解除减持预期对公司股价上涨的压制，形成利好。自2017年政府加强外废进口管制以来，我国外废进口量大幅下降。（1）航空工业集团、天保投资合计持有的中直有限100%股权（注：中直有限直接&间接持有中直股份16.03%股份）；。直升机需求不断扩大，军民融合市场空间广阔军改后陆军航空兵扩编和海军陆战队建设，我国军用直升机需求不断扩大。\n"
     ]
    }
   ],
   "source": [
    "summary2=[]\n",
    "for i in list_selected2:\n",
    "    summary2.append(sentence[i])\n",
    "summary2=\"。\".join(summary2)\n",
    "summary2=summary2+\"。\"\n",
    "print(summary2)"
   ]
  },
  {
   "cell_type": "markdown",
   "metadata": {},
   "source": [
    "可以看到，通过lazy使得算法的运行时间降低了，仅仅使用集合的覆盖函数作为子模函数去完成文本摘要事实上还没有考虑很多问题， 所以接下来主要是比较一下四种方法的效率。"
   ]
  },
  {
   "cell_type": "markdown",
   "metadata": {},
   "source": [
    "### 方法三 modified-greedy-algorithm"
   ]
  },
  {
   "cell_type": "markdown",
   "metadata": {},
   "source": [
    "1. 定义子模函数"
   ]
  },
  {
   "cell_type": "code",
   "execution_count": 35,
   "metadata": {},
   "outputs": [],
   "source": [
    "# MMR V是原文句子集合\n",
    "def MMR(V, S, λ=4):\n",
    "    #如果摘要集合的元素个数为0，则最后的MMR值也为0\n",
    "    if len(S) == 0:\n",
    "        return 0\n",
    "    U = list(range(V.shape[0]))\n",
    "    S_R = U[:] #S_R是原文句子集合-已选的摘要句子S-R\n",
    "    for s in S:\n",
    "        S_R.remove(s)\n",
    "    #从剩余的句子中去选择\n",
    "    res = 0\n",
    "    for i in S_R:\n",
    "     #候选句子与当前已有的摘要集合的冗余度\n",
    "        res +=cosine_similarity(V[i], V[S]).sum()\n",
    "    if len(S) == 1: return res\n",
    "    for i in S:\n",
    "        S_i = S[:]\n",
    "        S_i.remove(i)\n",
    "        res -=λ *cosine_similarity(V[i], V[S_i]).sum()/2\n",
    "    return res"
   ]
  },
  {
   "cell_type": "markdown",
   "metadata": {},
   "source": [
    "2. modified_greedy_algorithm"
   ]
  },
  {
   "cell_type": "code",
   "execution_count": 36,
   "metadata": {},
   "outputs": [],
   "source": [
    "def modified_greedy_algorithm(X, V, f, B, r):\n",
    "    G = []#对应第一行伪代码 #候选集合G，先初始化为空集\n",
    "    #原文句子集合V\n",
    "    U = list(range(V.shape[0]))#对应第二行伪代码 #候选原文句子集合\n",
    "    while len(U) != 0:#对应第三行伪代码\n",
    "        L = []\n",
    "        for u in U:\n",
    "            L.append((f(V,G + [u]) - f(V,G)) / (X[[u]].sum()) ** r)\n",
    "        k = U[np.argmax(L)]#对应第四行伪代码\n",
    "        if X[G + [k]].sum() <= B and f(G + [k])- f(G) >= 0:\n",
    "            G += [k]#摘要集加入该句子 #对应第五行伪代码\n",
    "        U.remove(k)#候选集移除被选择的句子 #对应第六行伪代码\n",
    "    #在跳出最外层循环后，并没有立刻返回结果\n",
    "    f_v=[]\n",
    "    for t in range(X.shape[0]):\n",
    "        if X[[t]].sum() <B:\n",
    "            f_v.append(f(V,[t]))\n",
    "    v = np.argmax(f_v)\n",
    "    if f(V,G) > f(V,[v]):\n",
    "        return G\n",
    "    else:\n",
    "        return v"
   ]
  },
  {
   "cell_type": "code",
   "execution_count": 19,
   "metadata": {},
   "outputs": [],
   "source": [
    "vec = CountVectorizer()\n",
    "X = vec.fit_transform(sent[0])\n",
    "# print(X.shape)\n",
    "tfidf = TfidfTransformer(use_idf=True).fit(X)\n",
    "X_tf = tfidf.transform(X)\n",
    "# print(tf.shape)"
   ]
  },
  {
   "cell_type": "code",
   "execution_count": 98,
   "metadata": {},
   "outputs": [
    {
     "data": {
      "text/plain": [
       "170.2492344379425"
      ]
     },
     "execution_count": 98,
     "metadata": {},
     "output_type": "execute_result"
    }
   ],
   "source": [
    "start = time.time()\n",
    "modified_greedy_algorithm_S = modified_greedy_algorithm(X,X_tf,MMR,50, 0.3)\n",
    "modified_greedy_algorithm_t = time.time() - start\n",
    "modified_greedy_algorithm_t"
   ]
  },
  {
   "cell_type": "code",
   "execution_count": 99,
   "metadata": {},
   "outputs": [
    {
     "data": {
      "text/plain": [
       "[0, 2, 47, 27, 6, 54, 62, 43, 3, 5, 7]"
      ]
     },
     "execution_count": 99,
     "metadata": {},
     "output_type": "execute_result"
    }
   ],
   "source": [
    "modified_greedy_algorithm_S"
   ]
  },
  {
   "cell_type": "code",
   "execution_count": 100,
   "metadata": {},
   "outputs": [
    {
     "name": "stdout",
     "output_type": "stream",
     "text": [
      "。风险提示。（2）航空工业集团持有的哈飞集团10.21%股权；（3）航空工业集团持有的昌飞集团47.96%股权。首次覆盖太阳纸业并给予公司“买入”评级。交易完成后，中航科工合计持有中直股份50.80%股份。此前EQT通过泽星投资持股公司股份数高达24.78%，且公告过将全部减持。根据绝对/相对估值法，给予公司12.60~14.50元的合理估值区间。我国直升机制造业的主力军，自主研发助推新品交付与民品替代中直主营航空产品直升机，现有核心产品包括直8、直9、直11、AC311、AC312、AC313等型号直升机及零部件，近年来已逐步完成主要产品型号的更新换代。预计到2020-2021年，废纸名义缺口量每年可能超过1000万吨。市场担忧减持对公司股价造成较大波动，预计该担忧部分影响了公司的股价表现。公司发布公告，EQT（LeaderHoldingLimited，简称“卖方”）将转让其持有的泽星投资100%股权给SonataCompanyLimited（简称“买方”），总对价为5.57亿美元。。\n"
     ]
    }
   ],
   "source": [
    "summary_1=[]\n",
    "for i in modified_greedy_algorithm_S:\n",
    "    summary_1.append(sent[0][i])\n",
    "summary_1=\"。\".join(summary_1)\n",
    "summary_1=summary_1+\"。\"\n",
    "print(summary_1)"
   ]
  },
  {
   "cell_type": "markdown",
   "metadata": {},
   "source": [
    "### 方法四 lazy改进后的modified-greedy-algorithm"
   ]
  },
  {
   "cell_type": "code",
   "execution_count": 37,
   "metadata": {},
   "outputs": [],
   "source": [
    "def modified_greedy_algorithm_lazy(X, V, f, B, r):\n",
    "    G = []#对应第一行伪代码 #候选集合G，先初始化为空集\n",
    "    #原文句子集合V\n",
    "    U = list(range(V.shape[0]))#对应第二行伪代码 #候选原文句子集合\n",
    "    score=[]\n",
    "    for u in U:\n",
    "        score.append(f(V,[u])/ X[[u]].sum() ** r)#得到增益分数\n",
    "    while len(U) != 0:#对应第三行伪代码\n",
    "        current_selected = np.argmax(score)\n",
    "        #优先对最大的进行增益分数的更新计算\n",
    "        score_ = (f(V,G + [U[current_selected]]) - f(V,G))/ X[[U[current_selected]]].sum() ** r\n",
    "        score[current_selected] = score_\n",
    "        idx =[]\n",
    "        #第一次肯定要进入while循环\n",
    "        while (current_selected not in idx) and (score < np.max(score)):\n",
    "            idx.append(current_selected)\n",
    "            current_selected = np.argmax(score)\n",
    "            score_ = (f(V,G + [U[current_selected]]) - f(V,G))/ X[[U[current_selected]]].sum() ** r\n",
    "            score[current_selected] = score_\n",
    "        k = U[current_selected]\n",
    "        score.remove(current_selected)\n",
    "        if X[G + [k]].sum() <= B and f(G + [k])- f(G) >= 0:\n",
    "            G += [k]#摘要集加入该句子 #对应第五行伪代码\n",
    "        U.remove(k)#候选集移除被选择的句子 #对应第六行伪代码\n",
    "        \n",
    "    #在跳出最外层循环后，并没有立刻返回结果\n",
    "    f_v=[]\n",
    "    for t in range(X.shape[0]):\n",
    "        if X[[t]].sum() <B:\n",
    "            f_v.append(f(V,[t]))\n",
    "    v = np.argmax(f_v)\n",
    "    if f(V,G) > f(V,[v]):\n",
    "        return G\n",
    "    else:\n",
    "        return v"
   ]
  },
  {
   "cell_type": "code",
   "execution_count": 94,
   "metadata": {},
   "outputs": [],
   "source": [
    "start = time.time()\n",
    "modified_greedy_algorithm_lazy_S = modified_greedy_algorithm_lazy(X,X_tf,MMR,50, 0.3)\n",
    "modified_greedy_algorithm_lazy_t = time.time() - start"
   ]
  },
  {
   "cell_type": "code",
   "execution_count": 95,
   "metadata": {},
   "outputs": [
    {
     "data": {
      "text/plain": [
       "[0, 2, 47, 27, 6, 54, 62, 43, 3, 5, 7]"
      ]
     },
     "execution_count": 95,
     "metadata": {},
     "output_type": "execute_result"
    }
   ],
   "source": [
    "modified_greedy_algorithm_lazy_S"
   ]
  },
  {
   "cell_type": "code",
   "execution_count": 96,
   "metadata": {},
   "outputs": [
    {
     "data": {
      "text/plain": [
       "22.79802703857422"
      ]
     },
     "execution_count": 96,
     "metadata": {},
     "output_type": "execute_result"
    }
   ],
   "source": [
    "modified_greedy_algorithm_lazy_t"
   ]
  },
  {
   "cell_type": "code",
   "execution_count": 97,
   "metadata": {},
   "outputs": [
    {
     "name": "stdout",
     "output_type": "stream",
     "text": [
      "。风险提示。（2）航空工业集团持有的哈飞集团10.21%股权；（3）航空工业集团持有的昌飞集团47.96%股权。首次覆盖太阳纸业并给予公司“买入”评级。交易完成后，中航科工合计持有中直股份50.80%股份。此前EQT通过泽星投资持股公司股份数高达24.78%，且公告过将全部减持。根据绝对/相对估值法，给予公司12.60~14.50元的合理估值区间。我国直升机制造业的主力军，自主研发助推新品交付与民品替代中直主营航空产品直升机，现有核心产品包括直8、直9、直11、AC311、AC312、AC313等型号直升机及零部件，近年来已逐步完成主要产品型号的更新换代。预计到2020-2021年，废纸名义缺口量每年可能超过1000万吨。市场担忧减持对公司股价造成较大波动，预计该担忧部分影响了公司的股价表现。公司发布公告，EQT（LeaderHoldingLimited，简称“卖方”）将转让其持有的泽星投资100%股权给SonataCompanyLimited（简称“买方”），总对价为5.57亿美元。\n"
     ]
    }
   ],
   "source": [
    "summary_2=[]\n",
    "for i in modified_greedy_algorithm_lazy_S:\n",
    "    summary_2.append(sent[0][i])\n",
    "summary_2=\"。\".join(summary_2)\n",
    "summary_2=summary_2+\"。\"\n",
    "print(summary_2)"
   ]
  },
  {
   "cell_type": "markdown",
   "metadata": {},
   "source": [
    "### 方法五 基于Monotone Submodular Objectives算法"
   ]
  },
  {
   "cell_type": "markdown",
   "metadata": {},
   "source": [
    "1. 定义子模函数"
   ]
  },
  {
   "cell_type": "code",
   "execution_count": 39,
   "metadata": {},
   "outputs": [],
   "source": [
    "#使用kmeans将文档中的句子集合分成num个类，为f中的奖励多样性项做准备的\n",
    "def generate_cluster(X_tf, X, num_):\n",
    "    num_=int(0.2 * len(range(X.shape[0])))\n",
    "    m = X_tf.toarray()\n",
    "    model = KMeans(num=num_)\n",
    "    model = kmeans.fit(m)\n",
    "    labels = kmeans.predict(m)\n",
    "    cluster = {k: [] for k in range(num_)}\n",
    "    for i in range(len(labels)):\n",
    "        cluster[labels[i]].append(i)\n",
    "    return cluster\n",
    "# f=L(s)+λ*R(s) 最大化它\n",
    "def monotone_submodulars(V, S, cluster,λ=4):\n",
    "    if len(S)==0:\n",
    "        return 0\n",
    "    res = 0\n",
    "    #计算第一部分覆盖率\n",
    "    for i in V:\n",
    "        res1 = cosine_similarity(i.reshape(1, -1), V[S]).sum()#原文中待选的句子i与候选摘要集S的相似度\n",
    "        res2 =cosine_similarity(i.reshape(1, -1), V).sum()\n",
    "        res += min(res1, res2)\n",
    "    res_ = 0\n",
    "    #计算第二部分冗余性\n",
    "    for k in range(len(cluster)):\n",
    "        S_and_Pk = list(set(S) & set(cluster[k]))\n",
    "        res1 = 0\n",
    "        for j in S_and_Pk:\n",
    "            res1 +=cosine_similarity(V[j], V).sum()\n",
    "        res_ += np.sqrt(res1)\n",
    "    return res + λ * res_"
   ]
  },
  {
   "cell_type": "markdown",
   "metadata": {},
   "source": [
    "2. monotone_submodular_objectives"
   ]
  },
  {
   "cell_type": "code",
   "execution_count": 40,
   "metadata": {},
   "outputs": [],
   "source": [
    "def monotone_submodular_objectives(X, V, cluster, f, B, r):\n",
    "    G = []#对应第一行伪代码 #候选集合G，先初始化为空集\n",
    "    #原文句子集合V\n",
    "    U = list(range(V.shape[0]))#对应第二行伪代码 #候选原文句子集合\n",
    "    while len(U) != 0:#对应第三行伪代码\n",
    "        L = []\n",
    "        for u in U:\n",
    "            L.append((f(V,G + [u],cluster) - f(V,G,cluster)) / (X[[u]].sum()) ** r)\n",
    "        k = U[np.argmax(L)]#对应第四行伪代码\n",
    "        if X[G + [k]].sum() <= B and f(G + [k],cluster)- f(G,cluster) >= 0:\n",
    "            G += [k]#摘要集加入该句子 #对应第五行伪代码\n",
    "        U.remove(k)#候选集移除被选择的句子 #对应第六行伪代码\n",
    "    #在跳出最外层循环后，并没有立刻返回结果\n",
    "    f_v=[]\n",
    "    for t in range(X.shape[0]):\n",
    "        if X[[t]].sum() <B:\n",
    "            f_v.append(f(V,[t],cluster))\n",
    "    v = np.argmax(f_v)\n",
    "    if f(V,G,cluster) > f(V,[v],cluster):\n",
    "        return G\n",
    "    else:\n",
    "        return v"
   ]
  },
  {
   "cell_type": "code",
   "execution_count": 101,
   "metadata": {},
   "outputs": [
    {
     "data": {
      "text/plain": [
       "515.7717483043671"
      ]
     },
     "execution_count": 101,
     "metadata": {},
     "output_type": "execute_result"
    }
   ],
   "source": [
    "cluster=generate_cluster(X_tf, X,3)\n",
    "start = time.time()\n",
    "monotone_submodular_objectives_S = monotone_submodular_objectives(X,X_tf,cluster,monotone_submodulars,50, 0.3)\n",
    "monotone_submodular_objectives_t = time.time() - start\n",
    "monotone_submodular_objectives_t"
   ]
  },
  {
   "cell_type": "code",
   "execution_count": 102,
   "metadata": {},
   "outputs": [
    {
     "data": {
      "text/plain": [
       "[0, 2, 25, 15, 18, 27, 47, 6, 54, 12, 23, 51, 64, 62, 38, 19, 55, 21, 22]"
      ]
     },
     "execution_count": 102,
     "metadata": {},
     "output_type": "execute_result"
    }
   ],
   "source": [
    "monotone_submodular_objectives_S"
   ]
  },
  {
   "cell_type": "code",
   "execution_count": 103,
   "metadata": {},
   "outputs": [
    {
     "name": "stdout",
     "output_type": "stream",
     "text": [
      "。风险提示。风险提示：。点评：。事件：。首次覆盖太阳纸业并给予公司“买入”评级。（2）航空工业集团持有的哈飞集团10.21%股权；（3）航空工业集团持有的昌飞集团47.96%股权。交易完成后，中航科工合计持有中直股份50.80%股份。此前EQT通过泽星投资持股公司股份数高达24.78%，且公告过将全部减持。目前文化纸行业集中度已然较高，包装纸领域尚有较大整合空间。直升机资产加速整合，公司中长期受益。EQT股权转让完成，新战略股东有望带来新变化。我们预计，公司特殊用户、民用直升机两方向将持续不断推进。根据绝对/相对估值法，给予公司12.60~14.50元的合理估值区间。在民机销售方面，各型直升机销售稳中有进，各主打产品逐步站稳市场，努力推进“一带一路市场的开拓”。投资要点。风险提示：公司重大资产重组进度低于预期，军工订单低于预期。盈利预测及估值。老挝和广西项目是太阳打开南方市场的战略重镇。\n"
     ]
    }
   ],
   "source": [
    "summary_3=[]\n",
    "for i in monotone_submodular_objectives_S:\n",
    "    summary_3.append(sent[0][i])\n",
    "summary_3=\"。\".join(summary_3)\n",
    "summary_3=summary_3+\"。\"\n",
    "print(summary_3)"
   ]
  },
  {
   "cell_type": "markdown",
   "metadata": {},
   "source": [
    "### 方法六 使用lazy改进的基于Monotone Submodular Objectives算法"
   ]
  },
  {
   "cell_type": "code",
   "execution_count": 14,
   "metadata": {},
   "outputs": [],
   "source": [
    "def monotone_submodular_objectives_lazy(X, V, cluster, f, B, r):\n",
    "    G = []#对应第一行伪代码 #候选集合G，先初始化为空集\n",
    "    #原文句子集合V\n",
    "    U = list(range(V.shape[0]))#对应第二行伪代码 #候选原文句子集合\n",
    "     score=[]\n",
    "    for u in U:\n",
    "        score.append(f(V,[u],cluster)/ X[[u]].sum() ** r)#得到增益分数\n",
    "    while len(U) != 0:#对应第三行伪代码\n",
    "        current_selected = np.argmax(score)\n",
    "        #优先对最大的进行增益分数的更新计算\n",
    "        score_ = (f(V,G + [U[current_selected],cluster]) - f(V,G,cluster))/ X[[U[current_selected]]].sum() ** r\n",
    "        score[current_selected] = score_\n",
    "        idx =[]\n",
    "        #第一次肯定要进入while循环\n",
    "        while (current_selected not in idx) and (score < np.max(score)):\n",
    "            idx.append(current_selected)\n",
    "            current_selected = np.argmax(score)\n",
    "            score_ = (f(V,G + [U[current_selected]],cluster) - f(V,G,cluster))/ X[[U[current_selected]]].sum() ** r\n",
    "            score[current_selected] = score_\n",
    "        k = U[current_selected]\n",
    "        score.remove(current_selected)\n",
    "        if X[G + [k]].sum() <= B and f(G + [k])- f(G) >= 0:\n",
    "            G += [k]#摘要集加入该句子 #对应第五行伪代码\n",
    "        U.remove(k)#候选集移除被选择的句子 #对应第六行伪代码\n",
    "    #在跳出最外层循环后，并没有立刻返回结果\n",
    "    f_v=[]\n",
    "    for t in range(X.shape[0]):\n",
    "        if X[[t]].sum() <B:\n",
    "            f_v.append(f(V,[t],cluster))\n",
    "    v = np.argmax(f_v)\n",
    "    if f(V,G,cluster) > f(V,[v],cluster):\n",
    "        return G\n",
    "    else:\n",
    "        return v"
   ]
  },
  {
   "cell_type": "code",
   "execution_count": 104,
   "metadata": {},
   "outputs": [
    {
     "data": {
      "text/plain": [
       "68.4156174659729"
      ]
     },
     "execution_count": 104,
     "metadata": {},
     "output_type": "execute_result"
    }
   ],
   "source": [
    "start = time.time()\n",
    "monotone_submodular_objectives_lazy_S = monotone_submodular_objectives(X,X_tf,cluster,monotone_submodulars,50, 0.3)\n",
    "monotone_submodular_objectives_lazy_t = time.time() - start\n",
    "monotone_submodular_objectives_lazy_t"
   ]
  },
  {
   "cell_type": "code",
   "execution_count": 105,
   "metadata": {},
   "outputs": [
    {
     "data": {
      "text/plain": [
       "[0, 2, 25, 15, 18, 27, 47, 6, 54, 12, 23, 51, 64, 62, 38, 37, 55, 22, 19]"
      ]
     },
     "execution_count": 105,
     "metadata": {},
     "output_type": "execute_result"
    }
   ],
   "source": [
    "monotone_submodular_objectives_lazy_S"
   ]
  },
  {
   "cell_type": "code",
   "execution_count": 106,
   "metadata": {},
   "outputs": [
    {
     "name": "stdout",
     "output_type": "stream",
     "text": [
      "。风险提示。风险提示：。点评：。事件：。首次覆盖太阳纸业并给予公司“买入”评级。（2）航空工业集团持有的哈飞集团10.21%股权；（3）航空工业集团持有的昌飞集团47.96%股权。交易完成后，中航科工合计持有中直股份50.80%股份。此前EQT通过泽星投资持股公司股份数高达24.78%，且公告过将全部减持。目前文化纸行业集中度已然较高，包装纸领域尚有较大整合空间。直升机资产加速整合，公司中长期受益。EQT股权转让完成，新战略股东有望带来新变化。我们预计，公司特殊用户、民用直升机两方向将持续不断推进。根据绝对/相对估值法，给予公司12.60~14.50元的合理估值区间。在民机销售方面，各型直升机销售稳中有进，各主打产品逐步站稳市场，努力推进“一带一路市场的开拓”。股权转让落地解除减持预期对股价的压制。风险提示：公司重大资产重组进度低于预期，军工订单低于预期。老挝和广西项目是太阳打开南方市场的战略重镇。投资要点。\n"
     ]
    }
   ],
   "source": [
    "summary_4=[]\n",
    "for i in monotone_submodular_objectives_lazy_S:\n",
    "    summary_4.append(sent[0][i])\n",
    "summary_4=\"。\".join(summary_4)\n",
    "summary_4=summary_4+\"。\"\n",
    "print(summary_4)"
   ]
  },
  {
   "cell_type": "markdown",
   "metadata": {},
   "source": [
    "### 比较后面四种算法在不同r的情况下的运行时间及覆盖率："
   ]
  },
  {
   "cell_type": "code",
   "execution_count": 25,
   "metadata": {},
   "outputs": [
    {
     "name": "stdout",
     "output_type": "stream",
     "text": [
      "budget = 40, r =0\n",
      "budget = 40, r =0.2\n",
      "budget = 40, r =0.4\n",
      "budget = 40, r =0.6\n",
      "budget = 40, r =0.8\n",
      "budget = 40, r =1\n",
      "budget = 40, r =1.2\n",
      "budget = 40, r =1.5\n"
     ]
    }
   ],
   "source": [
    "r_list = [0, 0.2, 0.4, 0.6, 0.8, 1,1.2, 1.5]\n",
    "run_time_modified=[]\n",
    "modified_summary=[]\n",
    "\n",
    "run_time_modified_lazy=[]\n",
    "modified_lazy_summary=[]\n",
    "\n",
    "run_time_monotone=[]\n",
    "monotone_summary=[]\n",
    "\n",
    "run_time_monotone_lazy=[]\n",
    "monotone_lazy_summary=[]\n",
    "\n",
    "for r in r_list:\n",
    "    print(\"budget = 40, r ={}\".format(r))\n",
    "    start = time.time()\n",
    "    modified_greedy_algorithm_S = modified_greedy_algorithm(X,X_tf,MMR,40, r)\n",
    "    modified_greedy_algorithm_t = time.time() - start\n",
    "    modified_summary.append(modified_greedy_algorithm_S)\n",
    "    run_time_modified.append(modified_greedy_algorithm_t)\n",
    "    \n",
    "    start = time.time()\n",
    "    modified_greedy_algorithm_lazy_S = modified_greedy_algorithm_lazy(X,X_tf,MMR,40, r)\n",
    "    modified_greedy_algorithm_lazy_t = time.time() - start\n",
    "    run_time_modified_lazy.append(modified_greedy_algorithm_lazy_t)\n",
    "    modified_lazy_summary.append(modified_greedy_algorithm_lazy_S)\n",
    "    \n",
    "    cluster=generate_cluster(X_tf, X,3)\n",
    "    start = time.time()\n",
    "    monotone_submodular_objectives_S = monotone_submodular_objectives(X,X_tf,cluster,monotone_submodulars,40, r)\n",
    "    monotone_submodular_objectives_t = time.time() - start\n",
    "    run_time_monotone.append(monotone_submodular_objectives_t)\n",
    "    monotone_summary.append(monotone_submodular_objectives_S)\n",
    "    \n",
    "    start = time.time()\n",
    "    monotone_submodular_objectives_lazy_S = monotone_submodular_objectives(X,X_tf,cluster,monotone_submodulars,40, r)\n",
    "    monotone_submodular_objectives_lazy_t = time.time() - start\n",
    "    run_time_monotone_lazy.append(monotone_submodular_objectives_lazy_t)\n",
    "    monotone_lazy_summary.append(monotone_submodular_objectives_lazy_S)"
   ]
  },
  {
   "cell_type": "markdown",
   "metadata": {},
   "source": [
    "比较算法效率 运行时间"
   ]
  },
  {
   "cell_type": "code",
   "execution_count": 27,
   "metadata": {},
   "outputs": [
    {
     "data": {
      "image/png": "[encoded data removed]",
      "text/plain": [
       "<Figure size 432x288 with 1 Axes>"
      ]
     },
     "metadata": {
      "needs_background": "light"
     },
     "output_type": "display_data"
    }
   ],
   "source": [
    "import matplotlib.pyplot as plt\n",
    "x_axix=[]\n",
    "for i in rs:\n",
    "    x_axix.append(i)\n",
    "plt.title('comparison of different r-value on running time')\n",
    "plt.plot(x_axix, run_time_modified, color='green', label='modified_greedy_algorithm')\n",
    "plt.plot(x_axix, run_time_modified_lazy,  color='orange', label='modified_greedy_algorithm_lazy')\n",
    "plt.plot(x_axix, run_time_monotone,  color='red', label='monotone_submodular_objectives')\n",
    "plt.plot(x_axix, run_time_monotone_lazy,  color='blue', label='monotone_submodular_objectives_lazy')\n",
    "plt.legend()\n",
    "plt.xlabel('r')\n",
    "plt.ylabel('running time(s)')\n",
    "plt.show()"
   ]
  },
  {
   "cell_type": "markdown",
   "metadata": {},
   "source": [
    "可以清楚看到，modified_greedy_algorithm运行时间是要比基于Monotone Submodular Objectives算法要低的，并且经过lazy改进后的两张算法运行时间都比较低，可以说通过lazy使得算法效率改进了若干倍，同时当r取值为0.4-1.4之间时，四种算法的运行效率基本处于稳定状态"
   ]
  },
  {
   "cell_type": "markdown",
   "metadata": {},
   "source": [
    "比较覆盖率"
   ]
  },
  {
   "cell_type": "code",
   "execution_count": 28,
   "metadata": {},
   "outputs": [
    {
     "data": {
      "image/png": "[encoded data removed]",
      "text/plain": [
       "<Figure size 432x288 with 1 Axes>"
      ]
     },
     "metadata": {
      "needs_background": "light"
     },
     "output_type": "display_data"
    }
   ],
   "source": [
    "total=X[X_tf.shape[0]-1].sum()\n",
    "modified_lazy=[]\n",
    "monotone_lazy=[]\n",
    "for i in S_MMR_lazy_summary:\n",
    "    x_MMR_lazy.append(X[i].sum()/total)\n",
    "for i in sub_lazy_summary:\n",
    "    x_sub_lazy.append(X[i].sum()/total)\n",
    "plt.title('comparison of different r-value on coverage')\n",
    "plt.plot(x_axix, modified_lazy,  'ro',color='orange',  label='modified_greedy_algorithm_lazy')\n",
    "plt.plot(x_axix, monotone_lazy, 'ro', color='blue',  label='monotone_submodular_objectives_lazy')\n",
    "plt.legend()\n",
    "plt.xlabel('r')\n",
    "plt.ylabel('coverage')\n",
    "plt.show()"
   ]
  },
  {
   "cell_type": "markdown",
   "metadata": {},
   "source": [
    "可以看到，基于Monotone Submodular Objectives算法在覆盖率的表现上基本都要比modified-greedy-algorithm好"
   ]
  },
  {
   "cell_type": "markdown",
   "metadata": {},
   "source": [
    "r=0.8的时候表现整体最优"
   ]
  },
  {
   "cell_type": "markdown",
   "metadata": {},
   "source": [
    "### 这仅仅是针对第一页的前4篇文章生成的摘要，现在用后面四种方法对400篇文章生成100篇摘要，进而比较随着文章长度的变化，算法运行时间的变化以及覆盖率的变化"
   ]
  },
  {
   "cell_type": "code",
   "execution_count": 41,
   "metadata": {},
   "outputs": [],
   "source": [
    "def generate_summary(passages,r,modified_greedy_algorithm,modified_greedy_algorithm_lazy,monotone_submodular_objectives,monotone_submodular_objectives_lazy,generate_cluster):\n",
    "    vec = CountVectorizer()\n",
    "    X = vec.fit_transform(passages)\n",
    "    tf_transformer = TfidfTransformer(use_idf=True).fit(X)\n",
    "    X_tf = tf_transformer.transform(X)\n",
    "    \n",
    "    start = time.time()\n",
    "    modified_greedy_algorithm_S = modified_greedy_algorithm(X,X_tf,MMR,40, r)\n",
    "    modified_greedy_algorithm_t = time.time() - start\n",
    "    \n",
    "    start = time.time()\n",
    "    modified_greedy_algorithm_lazy_S = modified_greedy_algorithm_lazy(X,X_tf,MMR,40, r)\n",
    "    modified_greedy_algorithm_lazy_t = time.time() - start\n",
    "    \n",
    "    cluster=generate_cluster(X_tf, X,3)\n",
    "    start = time.time()\n",
    "    monotone_submodular_objectives_S = monotone_submodular_objectives(X,X_tf,cluster,monotone_submodulars,40, r)\n",
    "    monotone_submodular_objectives_t = time.time() - start\n",
    "    \n",
    "    start = time.time()\n",
    "    monotone_submodular_objectives_lazy_S = monotone_submodular_objectives(X,X_tf,cluster,monotone_submodulars,40, r)\n",
    "    monotone_submodular_objectives_lazy_t = time.time() - start\n",
    "    return X_tf.shape[0],modified_greedy_algorithm_t, modified_greedy_algorithm_lazy_t, monotone_submodular_objectives_t, monotone_submodular_objectives_lazy_t,len(modified_greedy_algorithm_lazy_S)/ X_tf.shape[0],len(monotone_submodular_objectives_lazy_S)/X_tf.shape[0]"
   ]
  },
  {
   "cell_type": "code",
   "execution_count": 42,
   "metadata": {},
   "outputs": [],
   "source": [
    "import copy\n",
    "passages=copy.deepcopy(sent) \n",
    "column = ['length_of_doc','modified_greedy_algorithm_t', 'modified_greedy_algorithm_lazy_t','monotone_submodular_objectives_t', 'monotone_submodular_objectives_lazy_t','modified_lazy_coverage','monotone_lazy_coverage']\n",
    "result = pd.DataFrame(np.zeros((len(sent), len(column))),columns=column)\n",
    "t=0\n",
    "for i in range(100):\n",
    "    passages[i]=list(set(passages[i]))\n",
    "    res=generate_summary(passages[i],0.8,modified_greedy_algorithm,modified_greedy_algorithm_lazy,monotone_submodular_objectives,monotone_submodular_objectives_lazy,generate_cluster)\n",
    "    for j in range(len(column)):\n",
    "        result[names[j]].iloc[t] = res[j]\n",
    "    t=t+1\n",
    "result[1].to_csv('result.csv')\n",
    "#results.to_csv('result.csv')"
   ]
  },
  {
   "cell_type": "code",
   "execution_count": 29,
   "metadata": {},
   "outputs": [],
   "source": [
    "res = pd.read_csv(\"result.csv\", sep = \",\")"
   ]
  },
  {
   "cell_type": "markdown",
   "metadata": {},
   "source": [
    "#### 在不同的文章长度下的运行效率："
   ]
  },
  {
   "cell_type": "code",
   "execution_count": 30,
   "metadata": {},
   "outputs": [
    {
     "data": {
      "image/png": "[encoded data removed]",
      "text/plain": [
       "<Figure size 432x288 with 1 Axes>"
      ]
     },
     "metadata": {
      "needs_background": "light"
     },
     "output_type": "display_data"
    }
   ],
   "source": [
    "length = np.array(res[\"length_of_doc\"])\n",
    "length_ = res[\"length_of_doc\"][np.argsort(length)[:-1]]\n",
    "modified = res[\"modified_greedy_algorithm_t\"][np.argsort(length)[:-1]]\n",
    "modified_lazy = res[\"modified_greedy_algorithm_t_lazy\"][np.argsort(length)[:-1]]\n",
    "monotone_lazy = res[\"monotone_submodular_objectives_t_lazy\"][np.argsort(length)[:-1]]\n",
    "monotone = res[\"monotone_submodular_objectives_t\"][np.argsort(length)[:-1]]\n",
    "\n",
    "plt.title(\"comparision of different length of documents on time\")\n",
    "plt.xlabel(\"length of documents\")\n",
    "plt.ylabel(\"time\")\n",
    "plt.plot(length_, modified, label = \"modified_greedy_algorithm\")\n",
    "plt.plot(length_, modified_lazy, label = \"modified_greedy_algorithm_lazy\")\n",
    "plt.plot(length_, monotone, label = \"monotone_submodular_objectives\")\n",
    "plt.plot(length_, monotone_lazy, label = \"monotone_submodular_objectives_lazy\")\n",
    "plt.legend()\n",
    "plt.show()"
   ]
  },
  {
   "cell_type": "markdown",
   "metadata": {},
   "source": [
    "#### 在不同的文章长度下的覆盖率："
   ]
  },
  {
   "cell_type": "code",
   "execution_count": 31,
   "metadata": {},
   "outputs": [
    {
     "data": {
      "image/png": "[encoded data removed]",
      "text/plain": [
       "<Figure size 432x288 with 1 Axes>"
      ]
     },
     "metadata": {
      "needs_background": "light"
     },
     "output_type": "display_data"
    }
   ],
   "source": [
    "length = np.array(res[\"length_of_doc\"])\n",
    "length_ = res[\"length_of_doc\"][np.argsort(length)[:-1]]\n",
    "modified_c = res[\"modified_lazy_coverage\"][np.argsort(length)[:-1]]\n",
    "monotone_c = res[\"monotone_lazy_coverage\"][np.argsort(length)[:-1]]\n",
    "\n",
    "plt.title(\"comparision of different length of documents on coverage\")\n",
    "plt.xlabel(\"length of documents\")\n",
    "plt.ylabel(\"coverage\")\n",
    "plt.plot(length_, modified_c,  'ro',label = \"modified_greedy_algorithm_lazy\")\n",
    "plt.plot(length_, monotone_c, 'bo', label = \"monotone_submodular_objectives_lazy\")\n",
    "plt.legend()\n",
    "plt.show()"
   ]
  }
 ],
 "metadata": {
  "kernelspec": {
   "display_name": "Python 3",
   "language": "python",
   "name": "python3"
  },
  "language_info": {
   "codemirror_mode": {
    "name": "ipython",
    "version": 3
   },
   "file_extension": ".py",
   "mimetype": "text/x-python",
   "name": "python",
   "nbconvert_exporter": "python",
   "pygments_lexer": "ipython3",
   "version": "3.8.5"
  }
 },
 "nbformat": 4,
 "nbformat_minor": 4
}
